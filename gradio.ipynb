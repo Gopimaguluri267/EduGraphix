{
 "cells": [
  {
   "cell_type": "code",
   "execution_count": 1,
   "metadata": {},
   "outputs": [],
   "source": [
    "import gradio as gr"
   ]
  },
  {
   "cell_type": "code",
   "execution_count": 2,
   "metadata": {},
   "outputs": [],
   "source": [
    "import os\n",
    "from together import Together\n",
    "api_key = os.getenv(\"together_api_key\")\n",
    "client = Together(api_key=api_key)\n",
    "\n",
    "\n",
    "def get_results_from_model(input):\n",
    "\n",
    "    prompts = f'''\n",
    "    You are expert in generating steps and instructions for a mathematical image generator.\n",
    "    The output should contain the following elements:\n",
    "    * if the axis names in the image are necessary, give a dummy names in the context of mathematics\n",
    "    * the range of the axes\n",
    "    * labels corresponding to the important parts of the graph.\n",
    "\n",
    "    ```Note: Make sure to be precise and short. Strictly return less than or equal to 150 words output```\n",
    "\n",
    "    user input: {input}\n",
    "    output: \n",
    "\n",
    "    '''\n",
    "\n",
    "    client = Together(api_key=api_key)\n",
    "    response = client.chat.completions.create(\n",
    "       model=\"meta-llama/Llama-3-70b-chat-hf\",\n",
    "       messages=[{\"role\": \"user\", \"content\": prompts}],\n",
    "    )\n",
    "\n",
    "    # Extract the selected option from the response\n",
    "    response = response.choices[0].message.content.strip()\n",
    "    return response"
   ]
  },
  {
   "cell_type": "code",
   "execution_count": 3,
   "metadata": {},
   "outputs": [],
   "source": [
    "# # Create the Gradio interface\n",
    "# iface = gr.Interface(\n",
    "#     fn=get_results_from_model,\n",
    "#     inputs=gr.Textbox(placeholder=\"Enter a topic or question...\"),\n",
    "#     outputs=\"text\",\n",
    "#     title=\"LLaMA 3 Text Generation\",\n",
    "#     description=\"Generate text about a given topic using the LLaMA 3 model.\"\n",
    "# )\n",
    "\n",
    "# # Launch the Gradio app\n",
    "# iface.launch()\n"
   ]
  },
  {
   "cell_type": "code",
   "execution_count": 4,
   "metadata": {},
   "outputs": [],
   "source": [
    "import gradio as gr\n",
    "from transformers import pipeline\n",
    "from diffusers import StableDiffusionPipeline\n",
    "import torch\n",
    "import matplotlib.pyplot as plt"
   ]
  },
  {
   "cell_type": "code",
   "execution_count": 5,
   "metadata": {},
   "outputs": [
    {
     "data": {
      "application/vnd.jupyter.widget-view+json": {
       "model_id": "c183cfbb881f49bd85ff17907548a745",
       "version_major": 2,
       "version_minor": 0
      },
      "text/plain": [
       "Loading pipeline components...:   0%|          | 0/7 [00:00<?, ?it/s]"
      ]
     },
     "metadata": {},
     "output_type": "display_data"
    },
    {
     "name": "stderr",
     "output_type": "stream",
     "text": [
      "/opt/anaconda3/envs/texttoimage/lib/python3.12/site-packages/transformers/tokenization_utils_base.py:1601: FutureWarning: `clean_up_tokenization_spaces` was not set. It will be set to `True` by default. This behavior will be depracted in transformers v4.45, and will be then set to `False` by default. For more details check this issue: https://github.com/huggingface/transformers/issues/31884\n",
      "  warnings.warn(\n"
     ]
    }
   ],
   "source": [
    "\n",
    "# Load GPT-2 model for text generation\n",
    "# text_generator = pipeline('text-generation', model='gpt2')\n",
    "\n",
    "# # Load Stable Diffusion model for image generation\n",
    "image_generator = StableDiffusionPipeline.from_pretrained(\"runwayml/stable-diffusion-v1-5\", torch_dtype=torch.float16)\n",
    "# image_generator.to(\"cuda\")\n",
    "\n",
    "def generate_text_and_image(input_text):\n",
    "    text_output = get_results_from_model(input_text)\n",
    "    image = image_generator(text_output).images[0]\n",
    "    # image = plt.imread(\"/Users/gopimaguluri/Downloads/content 2/train/image_94.png\")\n",
    "    \n",
    "    return text_output, image\n",
    "\n",
    "\n",
    "# # Create Gradio interface\n",
    "# iface = gr.Interface(\n",
    "#     fn=generate_text_and_image,\n",
    "#     inputs=gr.Textbox(label=\"Enter a prompt\"),\n",
    "#     outputs=[\n",
    "#         gr.Textbox(label=\"Generated Text Instructions\"),\n",
    "#         gr.Image(label=\"Generated Image\")\n",
    "#     ],\n",
    "#     title=\"Text to Image Generation\",\n",
    "#     description=\"Enter a prompt to generate text instructions and an image based on those instructions.\"\n",
    "# )\n",
    "\n",
    "# Launch the interface\n",
    "# iface.launch()\n"
   ]
  },
  {
   "cell_type": "code",
   "execution_count": 7,
   "metadata": {},
   "outputs": [
    {
     "name": "stdout",
     "output_type": "stream",
     "text": [
      "Running on local URL:  http://127.0.0.1:7861\n",
      "\n",
      "To create a public link, set `share=True` in `launch()`.\n"
     ]
    },
    {
     "data": {
      "text/html": [
       "<div><iframe src=\"http://127.0.0.1:7861/\" width=\"100%\" height=\"500\" allow=\"autoplay; camera; microphone; clipboard-read; clipboard-write;\" frameborder=\"0\" allowfullscreen></iframe></div>"
      ],
      "text/plain": [
       "<IPython.core.display.HTML object>"
      ]
     },
     "metadata": {},
     "output_type": "display_data"
    },
    {
     "data": {
      "text/plain": []
     },
     "execution_count": 7,
     "metadata": {},
     "output_type": "execute_result"
    },
    {
     "name": "stderr",
     "output_type": "stream",
     "text": [
      "Token indices sequence length is longer than the specified maximum sequence length for this model (194 > 77). Running this sequence through the model will result in indexing errors\n",
      "The following part of your input was truncated because CLIP can only handle sequences up to 77 tokens: ['deviations from the mean ) * y - axis : 0 to 0. 4 ( probability density ) ** labels :** * mean ( μ ) at x = 0 * standard deviation ( σ ) at x = 1 and x = - 1 * peak of the curve at x = 0, y = 0. 4 ( maximum probability density ) ** additional features :** * shade the area under the curve to represent 6 8. 2 7 % of the data within 1 standard deviation of the mean. * add a vertical line at x = 0 to highlight the mean.']\n"
     ]
    },
    {
     "data": {
      "application/vnd.jupyter.widget-view+json": {
       "model_id": "014ee9fc378f4941ba6ed56d23d776eb",
       "version_major": 2,
       "version_minor": 0
      },
      "text/plain": [
       "  0%|          | 0/50 [00:00<?, ?it/s]"
      ]
     },
     "metadata": {},
     "output_type": "display_data"
    }
   ],
   "source": [
    "# Create Gradio interface\n",
    "with gr.Blocks(theme=\"default\") as iface:\n",
    "    gr.Markdown(\"# EduGraphix\")\n",
    "    gr.Markdown(\"What are you exploring today? Let us enhance your journey with visual aids!\")\n",
    "    \n",
    "    with gr.Row():\n",
    "        with gr.Column(scale=1):\n",
    "            input_text = gr.Textbox(label=\"Enter a prompt\", lines=5)\n",
    "            # Small Submit Button below the input text box\n",
    "            submit_button = gr.Button(\"Generate\", elem_id=\"submit-button\", size=\"small\")\n",
    "        with gr.Column(scale=1):\n",
    "            text_output = gr.Textbox(label=\"Textual Description\", lines=5)\n",
    "    \n",
    "    with gr.Row():\n",
    "        with gr.Column(scale=1, min_width=0):\n",
    "            gr.Markdown(\"\")  # Empty column for spacing\n",
    "        with gr.Column(scale=2):\n",
    "            image_output = gr.Image(label=\"Generated Image\")\n",
    "        with gr.Column(scale=1, min_width=0):\n",
    "            gr.Markdown(\"\")  # Empty column for spacing\n",
    "    \n",
    "    # Set up the button action\n",
    "    submit_button.click(generate_text_and_image, inputs=input_text, outputs=[text_output, image_output])\n",
    "\n",
    "# Add custom CSS to style the button smaller\n",
    "iface.css = \"\"\"\n",
    "#submit-button {\n",
    "    padding: 5px 10px; /* Adjust padding for smaller size */\n",
    "    font-size: 12px;   /* Smaller font size */\n",
    "}\n",
    "\"\"\"\n",
    "\n",
    "# Launch the interface\n",
    "iface.launch()\n"
   ]
  },
  {
   "cell_type": "code",
   "execution_count": null,
   "metadata": {},
   "outputs": [],
   "source": []
  }
 ],
 "metadata": {
  "kernelspec": {
   "display_name": "texttoimage",
   "language": "python",
   "name": "python3"
  },
  "language_info": {
   "codemirror_mode": {
    "name": "ipython",
    "version": 3
   },
   "file_extension": ".py",
   "mimetype": "text/x-python",
   "name": "python",
   "nbconvert_exporter": "python",
   "pygments_lexer": "ipython3",
   "version": "3.12.4"
  }
 },
 "nbformat": 4,
 "nbformat_minor": 2
}
